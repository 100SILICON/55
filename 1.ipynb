{
 "cells": [
  {
   "cell_type": "markdown",
   "id": "e4b4f653",
   "metadata": {},
   "source": [
    "## $$金融大数据分析 期末实验考查 $$"
   ]
  },
  {
   "cell_type": "markdown",
   "id": "0fc19976",
   "metadata": {},
   "source": [
    "交电子版，文件名称中的学号和姓名要填入，本文档文件名部分的\"学号姓名\"也要改为你的个人信息。"
   ]
  },
  {
   "cell_type": "markdown",
   "id": "7d2ff9ed",
   "metadata": {},
   "source": [
    "\n",
    "| | | | | | |\n",
    "|:-|-|:-|-|:-|-|\n",
    "|<font size=4>实验地点:|<font size=4>机房|<font size=4>实验日期:|<font size=4>2024-12-16|<font size=4>学院:|<font size=4>金融与投资学院|\n",
    "|<font size=4>学号:|<font size=4> xxx |<font size=4>姓名:|<font size=4> yyy  |<font size=4> 课时:  |<font size=4> 2  |\n"
   ]
  },
  {
   "cell_type": "markdown",
   "id": "a2a3b5e7",
   "metadata": {},
   "source": [
    "###　1.写出下列公式的Python表达式（5分）。"
   ]
  },
  {
   "cell_type": "markdown",
   "id": "14ef3b59",
   "metadata": {},
   "source": [
    "① $5 + (2 \\times 3)^3$"
   ]
  },
  {
   "cell_type": "code",
   "execution_count": 1,
   "id": "94d07238",
   "metadata": {},
   "outputs": [
    {
     "data": {
      "text/plain": [
       "221"
      ]
     },
     "execution_count": 1,
     "metadata": {},
     "output_type": "execute_result"
    }
   ],
   "source": [
    "5 + (2 * 3) ** 3"
   ]
  },
  {
   "cell_type": "markdown",
   "id": "44f1a301",
   "metadata": {},
   "source": [
    "② $\\sqrt[3]{a^3+b^3}$"
   ]
  },
  {
   "cell_type": "code",
   "execution_count": 8,
   "id": "ab0f62c1",
   "metadata": {},
   "outputs": [
    {
     "name": "stdout",
     "output_type": "stream",
     "text": [
      "3.2710663101885897\n"
     ]
    }
   ],
   "source": [
    "import math\n",
    "\n",
    "a = 2  # 举例\n",
    "b = 3  # 举例\n",
    "result = (a**3 + b**3) ** (1/3)\n",
    "print(result)\n"
   ]
  },
  {
   "cell_type": "markdown",
   "id": "fe4124df",
   "metadata": {},
   "source": [
    "# ③ $tan^2(b - a)$"
   ]
  },
  {
   "cell_type": "code",
   "execution_count": 14,
   "id": "d7eb432e",
   "metadata": {},
   "outputs": [
    {
     "name": "stdout",
     "output_type": "stream",
     "text": [
      "2.42551882081476\n"
     ]
    }
   ],
   "source": [
    "import math\n",
    "\n",
    "a = 1\n",
    "b = 2\n",
    "result = math.tan(b - a) ** 2\n",
    "print(result)"
   ]
  },
  {
   "cell_type": "markdown",
   "id": "5b40c906",
   "metadata": {},
   "source": [
    "④ $\\log_{3} (9)$"
   ]
  },
  {
   "cell_type": "code",
   "execution_count": 16,
   "id": "982f52e6",
   "metadata": {},
   "outputs": [
    {
     "name": "stdout",
     "output_type": "stream",
     "text": [
      "2.0\n"
     ]
    }
   ],
   "source": [
    "import math\n",
    "\n",
    "result = math.log(9, 3)\n",
    "print(result)"
   ]
  },
  {
   "cell_type": "markdown",
   "id": "b56eb0f9",
   "metadata": {},
   "source": [
    "⑤ $3e^{(a+b)}$"
   ]
  },
  {
   "cell_type": "code",
   "execution_count": 17,
   "id": "a34ffbd2",
   "metadata": {},
   "outputs": [
    {
     "name": "stdout",
     "output_type": "stream",
     "text": [
      "60.256610769563004\n"
     ]
    }
   ],
   "source": [
    "import math\n",
    "\n",
    "a = 1\n",
    "b = 2\n",
    "result = 3 * math.exp(a + b)\n",
    "print(result)"
   ]
  },
  {
   "cell_type": "markdown",
   "id": "806263bf",
   "metadata": {},
   "source": [
    "### 2.根据球的半径计算球的面积和体积并输出（5分）。"
   ]
  },
  {
   "cell_type": "code",
   "execution_count": 18,
   "id": "b53c028f",
   "metadata": {},
   "outputs": [
    {
     "name": "stdout",
     "output_type": "stream",
     "text": [
      "球的表面积是: 1256.6370614359173\n",
      "球的体积是: 4188.790204786391\n"
     ]
    }
   ],
   "source": [
    "import math           # 导入math模块\n",
    "r = 10               # 半径\n",
    "\n",
    "# 计算球的表面积\n",
    "A = 4 * math.pi * r**2\n",
    "\n",
    "# 计算球的体积\n",
    "V = (4/3) * math.pi * r**3\n",
    "\n",
    "# 输出结果\n",
    "print(\"球的表面积是:\", A)\n",
    "print(\"球的体积是:\", V)"
   ]
  },
  {
   "cell_type": "markdown",
   "id": "be8dcd03",
   "metadata": {},
   "source": [
    "### 3.输出字符'A'-'Z'的十六进制ASCII码（2分）。"
   ]
  },
  {
   "cell_type": "code",
   "execution_count": 19,
   "id": "86efdb77",
   "metadata": {},
   "outputs": [
    {
     "name": "stdout",
     "output_type": "stream",
     "text": [
      "A: 41\n",
      "B: 42\n",
      "C: 43\n",
      "D: 44\n",
      "E: 45\n",
      "F: 46\n",
      "G: 47\n",
      "H: 48\n",
      "I: 49\n",
      "J: 4A\n",
      "K: 4B\n",
      "L: 4C\n",
      "M: 4D\n",
      "N: 4E\n",
      "O: 4F\n",
      "P: 50\n",
      "Q: 51\n",
      "R: 52\n",
      "S: 53\n",
      "T: 54\n",
      "U: 55\n",
      "V: 56\n",
      "W: 57\n",
      "X: 58\n",
      "Y: 59\n",
      "Z: 5A\n"
     ]
    }
   ],
   "source": [
    "import string\n",
    "\n",
    "# 遍历大写字母并打印其十六进制ASCII码\n",
    "for letter in string.ascii_uppercase:\n",
    "    print(f\"{letter}: {ord(letter):02X}\")\n"
   ]
  },
  {
   "cell_type": "markdown",
   "id": "62f45a80",
   "metadata": {},
   "source": [
    "### 4.将下面的字符串s变为'AA+BB+CC+DD'(3分） 。"
   ]
  },
  {
   "cell_type": "code",
   "execution_count": 20,
   "id": "a2d995e8",
   "metadata": {},
   "outputs": [
    {
     "name": "stdout",
     "output_type": "stream",
     "text": [
      "AA+BB+CC+DD\n"
     ]
    }
   ],
   "source": [
    "s = 'AA\\t  BB   CC  \\t  DD\\n'\n",
    "\n",
    "# 将制表符和换行符替换为空格\n",
    "s = s.replace('\\t', ' ').replace('\\n', ' ')\n",
    "\n",
    "# 将多个连续空格替换为单个空格\n",
    "s = ' '.join(s.split())\n",
    "\n",
    "# 将空格替换为加号\n",
    "s = s.replace(' ', '+')\n",
    "\n",
    "print(s)"
   ]
  },
  {
   "cell_type": "markdown",
   "id": "45c76b79",
   "metadata": {},
   "source": [
    "### 5．导入math库， 使用其中的函数完成以下问题（5分）。"
   ]
  },
  {
   "cell_type": "code",
   "execution_count": 21,
   "id": "5e3014b8",
   "metadata": {},
   "outputs": [
    {
     "name": "stdout",
     "output_type": "stream",
     "text": [
      "e的自然对数: 1.0\n",
      "10的以2为底的对数: 3.321928094887362\n",
      "10的以10为底的常用对数: 1.0\n"
     ]
    }
   ],
   "source": [
    "# 输出e的自然对数, 10的以2为底的对数, 10的以10为底的常用对数\n",
    "import math\n",
    "\n",
    "# e的自然对数\n",
    "ln_e = math.log(math.e)\n",
    "print(\"e的自然对数:\", ln_e)\n",
    "\n",
    "# 10的以2为底的对数\n",
    "log2_10 = math.log2(10)\n",
    "print(\"10的以2为底的对数:\", log2_10)\n",
    "\n",
    "# 10的以10为底的常用对数\n",
    "log10_10 = math.log10(10)\n",
    "print(\"10的以10为底的常用对数:\", log10_10)"
   ]
  },
  {
   "cell_type": "code",
   "execution_count": 22,
   "id": "a64f8cd4",
   "metadata": {},
   "outputs": [
    {
     "name": "stdout",
     "output_type": "stream",
     "text": [
      "30度的弧度值: 0.5235987755982988\n"
     ]
    }
   ],
   "source": [
    "# 将角度30转为弧度，结果存在 rad 变量\n",
    "import math\n",
    "\n",
    "# 将30度转换为弧度\n",
    "rad = math.radians(30)\n",
    "\n",
    "print(\"30度的弧度值:\", rad)          "
   ]
  },
  {
   "cell_type": "code",
   "execution_count": 23,
   "id": "05f70417",
   "metadata": {},
   "outputs": [
    {
     "name": "stdout",
     "output_type": "stream",
     "text": [
      "弧度值对应的角角度: 29.999999999999996\n"
     ]
    }
   ],
   "source": [
    "# 将上题的rad 弧度又转为角度\n",
    "import math\n",
    "\n",
    "# 上题中得到的弧度值\n",
    "rad = 0.5235987755982988\n",
    "\n",
    "# 将弧度转换为角度\n",
    "angle = math.degrees(rad)\n",
    "\n",
    "print(\"弧度值对应的角角度:\", angle)    "
   ]
  },
  {
   "cell_type": "code",
   "execution_count": 24,
   "id": "6c7cafc2",
   "metadata": {},
   "outputs": [
    {
     "name": "stdout",
     "output_type": "stream",
     "text": [
      "弧度值的正弦，保留2位小数: 0.5\n"
     ]
    }
   ],
   "source": [
    "# 计算 rad 的正弦，保留2位小数，结果存于变量x\n",
    "import math\n",
    "\n",
    "# 上题中得到的弧度值\n",
    "rad = 0.5235987755982988\n",
    "\n",
    "# 计算弧度值的正弦\n",
    "sin_rad = math.sin(rad)\n",
    "\n",
    "# 将结果保留2位小数\n",
    "x = round(sin_rad, 2)\n",
    "\n",
    "print(\"弧度值的正弦，保留2位小数:\", x)"
   ]
  },
  {
   "cell_type": "code",
   "execution_count": 25,
   "id": "a02300d9",
   "metadata": {},
   "outputs": [
    {
     "name": "stdout",
     "output_type": "stream",
     "text": [
      "正弦值的反正弦（弧度值）: 0.5235987755982989\n"
     ]
    }
   ],
   "source": [
    "# 对上题的 x 求反正弦\n",
    "import math\n",
    "\n",
    "# 上题中得到的正弦值\n",
    "x = 0.5\n",
    "\n",
    "# 对正弦值求反正弦\n",
    "arc_rad = math.asin(x)\n",
    "\n",
    "print(\"正弦值的反正弦（弧度值）:\", arc_rad)"
   ]
  },
  {
   "cell_type": "markdown",
   "id": "16c88f07",
   "metadata": {},
   "source": [
    "### 6．统计列表lst = [12,2,16,30,28,10,16,20,6,18,37,66,7,95,20,89]中元素的个数，找出最大值和最小值，计算平均值，并将lst列表按从大到小排序输出（5分）。"
   ]
  },
  {
   "cell_type": "code",
   "execution_count": 30,
   "id": "27759ce9",
   "metadata": {},
   "outputs": [
    {
     "name": "stdout",
     "output_type": "stream",
     "text": [
      "元素个数: 16\n"
     ]
    }
   ],
   "source": [
    "lst = [12,2,16,30,28,10,16,20,6,18,37,66,7,95,20,89]\n",
    "# 元素个数\n",
    "len_lst = len(lst)\n",
    "print(\"元素个数:\", len_lst)"
   ]
  },
  {
   "cell_type": "code",
   "execution_count": 31,
   "id": "6c291f9f",
   "metadata": {},
   "outputs": [
    {
     "name": "stdout",
     "output_type": "stream",
     "text": [
      "最大值: 95\n"
     ]
    }
   ],
   "source": [
    "# 最大值\n",
    "max_val = max(lst)\n",
    "print(\"最大值:\", max_val)"
   ]
  },
  {
   "cell_type": "code",
   "execution_count": 32,
   "id": "f4c98d46",
   "metadata": {},
   "outputs": [
    {
     "name": "stdout",
     "output_type": "stream",
     "text": [
      "最小值: 2\n"
     ]
    }
   ],
   "source": [
    "# 最小值\n",
    "min_val = min(lst)\n",
    "print(\"最小值:\", min_val)"
   ]
  },
  {
   "cell_type": "code",
   "execution_count": 35,
   "id": "169edbd7",
   "metadata": {},
   "outputs": [
    {
     "name": "stdout",
     "output_type": "stream",
     "text": [
      "平均值: 29.5\n"
     ]
    }
   ],
   "source": [
    "# 计算平均值\n",
    "avg_val = sum(lst) / len(lst)\n",
    "print(\"平均值:\", round(avg_val, 2)) # 保留两位小数"
   ]
  },
  {
   "cell_type": "code",
   "execution_count": 34,
   "id": "44a221fd",
   "metadata": {},
   "outputs": [
    {
     "name": "stdout",
     "output_type": "stream",
     "text": [
      "排序后的列表: [95, 89, 66, 37, 30, 28, 20, 20, 18, 16, 16, 12, 10, 7, 6, 2]\n"
     ]
    }
   ],
   "source": [
    "# 列表按从大到小排序输出\n",
    "sorted_lst = sorted(lst, reverse=True)\n",
    "print(\"排序后的列表:\", sorted_lst)"
   ]
  },
  {
   "cell_type": "markdown",
   "id": "64f3dfe4",
   "metadata": {},
   "source": [
    "### 7．time库应用（5分）。  \n",
    "\n",
    "(1)测试将含有1千万个数的列表中的数均变为原来的2倍所需的耗时，要求测试5次取平均耗时（3分）。"
   ]
  },
  {
   "cell_type": "code",
   "execution_count": 36,
   "id": "c32773e9",
   "metadata": {},
   "outputs": [
    {
     "name": "stdout",
     "output_type": "stream",
     "text": [
      "平均耗时: 0.04497065544128418\n"
     ]
    }
   ],
   "source": [
    "import time\n",
    "lst = list(range(1000000))\n",
    "\n",
    "# 测试5次，取平均耗时\n",
    "total_time = 0\n",
    "\n",
    "for _ in range(5):\n",
    "    # 记录测试开始时间\n",
    "    start_time = time.time()\n",
    "    \n",
    "    # 将列表中的数均变为原来的2倍\n",
    "    doubled_lst = [x * 2 for x in lst]\n",
    "    \n",
    "    # 记录测试结束时间\n",
    "    end_time = time.time()\n",
    "    \n",
    "    # 计算单次测试的耗时，并累加到总耗时\n",
    "    total_time += end_time - start_time\n",
    "\n",
    "# 计算平均耗时\n",
    "average_time = total_time / 5\n",
    "\n",
    "print(\"平均耗时:\", average_time)"
   ]
  },
  {
   "cell_type": "markdown",
   "id": "1cc36669",
   "metadata": {},
   "source": [
    "(2)今天是本年的第几天？（2分）"
   ]
  },
  {
   "cell_type": "code",
   "execution_count": 37,
   "id": "bd83ab55",
   "metadata": {},
   "outputs": [
    {
     "name": "stdout",
     "output_type": "stream",
     "text": [
      "今天是本年的第352天\n"
     ]
    }
   ],
   "source": [
    "import time\n",
    "from datetime import datetime\n",
    "\n",
    "# 获取当前时间\n",
    "current_time = time.localtime()\n",
    "\n",
    "# 将当前时间转换为datetime.date对象\n",
    "current_date = datetime(*current_time[:3]).date()\n",
    "\n",
    "# 计算今天是本年的第几天\n",
    "day_of_year = current_date.toordinal() - datetime(current_date.year, 1, 1).date().toordinal() + 1\n",
    "\n",
    "print(\"今天是本年的第{}天\".format(day_of_year))"
   ]
  },
  {
   "cell_type": "markdown",
   "id": "df7ad48f",
   "metadata": {},
   "source": [
    "### 8．datetime库应用（5分）。  \n",
    "\n",
    "(1)输入你的出生日期，判断是星期几？（2分）"
   ]
  },
  {
   "cell_type": "code",
   "execution_count": 39,
   "id": "3cb0f507",
   "metadata": {},
   "outputs": [
    {
     "name": "stdout",
     "output_type": "stream",
     "text": [
      "输入你的出生日期: 年-月-日2003-03-03\n",
      "你的出生日期是： 星期一\n"
     ]
    }
   ],
   "source": [
    "from datetime import datetime\n",
    "s = input('输入你的出生日期: 年-月-日')    # '2005-5-1'\n",
    "# 待补充\n",
    "\n",
    "# 解析日期字符串为datetime对象\n",
    "birth_date = datetime.strptime(s, '%Y-%m-%d')\n",
    "\n",
    "# 获取星期几，返回值为0-6，分别代表星期一到星期日\n",
    "weekday = birth_date.weekday()\n",
    "\n",
    "# 将数字转换为星期的名称\n",
    "weekdays = [\"星期一\", \"星期二\", \"星期三\", \"星期四\", \"星期五\", \"星期六\", \"星期日\"]\n",
    "print(\"你的出生日期是：\", weekdays[weekday])"
   ]
  },
  {
   "cell_type": "markdown",
   "id": "6a606ae0",
   "metadata": {},
   "source": [
    "(2)你出生到现在一共过了多少天了？（2分）"
   ]
  },
  {
   "cell_type": "code",
   "execution_count": 40,
   "id": "6b050e96",
   "metadata": {},
   "outputs": [
    {
     "name": "stdout",
     "output_type": "stream",
     "text": [
      "输入你的出生日期: 年-月-日 2003-03-03\n",
      "从出生到现在一共过了7960天\n"
     ]
    }
   ],
   "source": [
    "from datetime import datetime\n",
    "\n",
    "# 获取出生日期的字符串\n",
    "s = input('输入你的出生日期: 年-月-日 ')  # '2003-03-03'\n",
    "\n",
    "# 解析出生日期的字符串为datetime对象\n",
    "birth_date = datetime.strptime(s, '%Y-%m-%d')\n",
    "\n",
    "# 获取当前的日期和时间\n",
    "current_date = datetime.now()\n",
    "\n",
    "# 计算从出生到现在一共过了多少天\n",
    "delta = current_date - birth_date\n",
    "print(\"从出生到现在一共过了{}天\".format(delta.days))"
   ]
  },
  {
   "cell_type": "markdown",
   "id": "1a27615f",
   "metadata": {},
   "source": [
    "(3)将你的生日变量birth分别按“年-月-日”格式输出。（1分）"
   ]
  },
  {
   "cell_type": "code",
   "execution_count": 45,
   "id": "2fd78594",
   "metadata": {},
   "outputs": [
    {
     "name": "stdout",
     "output_type": "stream",
     "text": [
      "生日按‘年-月-日’格式输出为： 2003-03-03\n"
     ]
    }
   ],
   "source": [
    "from datetime import datetime\n",
    "\n",
    "# 假设birth是一个datetime对象，例如：\n",
    "birth = datetime(2003, 3, 3)  # 这里用2005年5月1日作为示例\n",
    "\n",
    "# 使用strftime方法按照“年-月-日”格式输出\n",
    "formatted_birth = birth.strftime('%Y-%m-%d')\n",
    "\n",
    "print(\"生日按‘年-月-日’格式输出为：\", formatted_birth)"
   ]
  },
  {
   "cell_type": "markdown",
   "id": "c45a97d8",
   "metadata": {},
   "source": [
    "### 9．random随机库应用（5分）  \n",
    "\n",
    "(1) 设定随机种子为你的学号"
   ]
  },
  {
   "cell_type": "code",
   "execution_count": 47,
   "id": "ec933ca1",
   "metadata": {},
   "outputs": [
    {
     "name": "stdout",
     "output_type": "stream",
     "text": [
      "0.5536943022789435\n",
      "7\n"
     ]
    }
   ],
   "source": [
    "import random\n",
    "\n",
    "# 假设学号是221597333，这里用它作为随机种子\n",
    "student_id = 221597333\n",
    "random.seed(student_id)\n",
    "\n",
    "# 现在生成的随机数序列将会在每次运行时都是相同的\n",
    "print(random.random())  # 打印一个随机浮点数\n",
    "print(random.randint(1, 10))  # 打印一个1到10之间的随机整数"
   ]
  },
  {
   "cell_type": "markdown",
   "id": "1f31c705",
   "metadata": {},
   "source": [
    "(2)产生含有[1,100]之间的200个随机整数的列表lst"
   ]
  },
  {
   "cell_type": "code",
   "execution_count": 48,
   "id": "c8f859af",
   "metadata": {},
   "outputs": [
    {
     "name": "stdout",
     "output_type": "stream",
     "text": [
      "[56, 87, 73, 23, 34, 93, 54, 66, 61, 18, 96, 78, 97, 57, 64, 73, 36, 67, 4, 3, 68, 9, 72, 74, 97, 59, 40, 46, 48, 72, 91, 88, 15, 82, 87, 25, 48, 70, 52, 13, 44, 33, 7, 84, 76, 94, 70, 17, 33, 17, 67, 36, 99, 98, 54, 55, 36, 22, 100, 29, 49, 66, 98, 83, 92, 48, 69, 20, 97, 84, 4, 97, 29, 23, 90, 54, 33, 33, 6, 7, 80, 10, 22, 38, 60, 39, 20, 36, 34, 100, 34, 11, 15, 7, 90, 92, 80, 98, 86, 34, 44, 14, 32, 5, 46, 14, 22, 17, 50, 31, 29, 75, 26, 80, 31, 5, 32, 50, 65, 28, 92, 45, 14, 82, 36, 32, 1, 51, 78, 1, 81, 73, 15, 24, 26, 67, 27, 36, 79, 29, 7, 48, 38, 3, 65, 22, 27, 67, 16, 55, 7, 76, 18, 26, 2, 26, 72, 92, 98, 38, 32, 90, 67, 31, 75, 68, 4, 46, 87, 70, 33, 41, 65, 68, 94, 5, 45, 74, 40, 94, 76, 53, 14, 21, 97, 21, 94, 43, 86, 93, 13, 18, 21, 53, 40, 27, 1, 63, 50, 56]\n"
     ]
    }
   ],
   "source": [
    "import random\n",
    "\n",
    "# 生成含有200个[1,100]之间的随机整数的列表\n",
    "lst = [random.randint(1, 100) for _ in range(200)]\n",
    "\n",
    "print(lst)"
   ]
  },
  {
   "cell_type": "markdown",
   "id": "f5f46531",
   "metadata": {},
   "source": [
    "(3)[1,100]之间哪些数没有出现在lst中"
   ]
  },
  {
   "cell_type": "code",
   "execution_count": 50,
   "id": "5a27a61d",
   "metadata": {},
   "outputs": [
    {
     "name": "stdout",
     "output_type": "stream",
     "text": [
      "在lst中没有出现的数: [5, 7, 18, 27, 33, 38, 40, 41, 42, 45, 65, 67, 73, 81, 98]\n"
     ]
    }
   ],
   "source": [
    "import random\n",
    "\n",
    "# 生成含有200个[1,100]之间的随机整数的列表\n",
    "lst = [random.randint(1, 100) for _ in range(200)]\n",
    "\n",
    "# 创建一个从1到100的完整列表\n",
    "all_numbers = list(range(1, 101))\n",
    "\n",
    "# 找出在lst中没有出现的数\n",
    "missing_numbers = [num for num in all_numbers if num not in lst]\n",
    "\n",
    "print(\"在lst中没有出现的数:\", missing_numbers)"
   ]
  },
  {
   "cell_type": "markdown",
   "id": "03f2e83f",
   "metadata": {},
   "source": [
    "(4)产生含有1-54的整数有序列表card，然后用random.sample从中随机抽取5个数。"
   ]
  },
  {
   "cell_type": "code",
   "execution_count": 51,
   "id": "6275554c",
   "metadata": {},
   "outputs": [
    {
     "name": "stdout",
     "output_type": "stream",
     "text": [
      "随机抽取的5个数: [3, 44, 53, 30, 42]\n"
     ]
    }
   ],
   "source": [
    "# 用 random.sample 抽取\n",
    "import random\n",
    "\n",
    "# 创建含有1-54的整数有序列表card\n",
    "card = list(range(1, 55))\n",
    "\n",
    "# 从card中随机抽取5个数\n",
    "selected_numbers = random.sample(card, 5)\n",
    "\n",
    "print(\"随机抽取的5个数:\", selected_numbers)"
   ]
  },
  {
   "cell_type": "markdown",
   "id": "0465751c",
   "metadata": {},
   "source": [
    "(5)对上面的有序列表card进行乱序( random.shuffle)"
   ]
  },
  {
   "cell_type": "code",
   "execution_count": 52,
   "id": "36f7a5c5",
   "metadata": {},
   "outputs": [
    {
     "name": "stdout",
     "output_type": "stream",
     "text": [
      "原始有序列表: [1, 2, 3, 4, 5, 6, 7, 8, 9, 10, 11, 12, 13, 14, 15, 16, 17, 18, 19, 20, 21, 22, 23, 24, 25, 26, 27, 28, 29, 30, 31, 32, 33, 34, 35, 36, 37, 38, 39, 40, 41, 42, 43, 44, 45, 46, 47, 48, 49, 50, 51, 52, 53, 54]\n",
      "乱序后的列表: [47, 1, 29, 9, 21, 44, 41, 50, 54, 31, 4, 35, 20, 32, 15, 48, 14, 52, 42, 28, 16, 2, 27, 17, 43, 46, 7, 40, 49, 6, 37, 18, 30, 23, 8, 11, 10, 19, 13, 36, 34, 26, 45, 24, 51, 12, 38, 25, 5, 3, 53, 39, 22, 33]\n"
     ]
    }
   ],
   "source": [
    "import random\n",
    "\n",
    "# 创建含有1-54的整数有序列表card\n",
    "card = list(range(1, 55))\n",
    "\n",
    "# 输出原始有序列表\n",
    "print(\"原始有序列表:\", card)\n",
    "\n",
    "# 对card进行乱序\n",
    "random.shuffle(card)\n",
    "\n",
    "# 输出乱序后的列表\n",
    "print(\"乱序后的列表:\", card)"
   ]
  },
  {
   "cell_type": "markdown",
   "id": "265054f0",
   "metadata": {},
   "source": [
    "###  10．使用for语句编写程序，计算整数1到2000的和，将结果保存在变量s中（5分）。"
   ]
  },
  {
   "cell_type": "code",
   "execution_count": 53,
   "id": "83d598cf",
   "metadata": {},
   "outputs": [
    {
     "name": "stdout",
     "output_type": "stream",
     "text": [
      "1到2000的和是: 2001000\n"
     ]
    }
   ],
   "source": [
    "# 初始化求和变量s\n",
    "s = 0\n",
    "\n",
    "# 使用for循环计算1到2000的和\n",
    "for i in range(1, 2001):  # range的结束值是2001，因为range函数不包括结束值\n",
    "    s += i\n",
    "\n",
    "print(\"1到2000的和是:\", s)"
   ]
  },
  {
   "cell_type": "markdown",
   "id": "b513cef8",
   "metadata": {},
   "source": [
    "###  11．随机生成两个1到10000之间的整数，若这两个整数之间有素数，则输出最大的一个，否则什么都不输出。例如生成的整数是2000和1500，程序要求查找[1500,2000]间的素数，应输出1999（5分）。"
   ]
  },
  {
   "cell_type": "code",
   "execution_count": 54,
   "id": "ee25bea4",
   "metadata": {},
   "outputs": [
    {
     "name": "stdout",
     "output_type": "stream",
     "text": [
      "最大的素数是: 5657\n"
     ]
    }
   ],
   "source": [
    "import random\n",
    "\n",
    "def is_prime(n):\n",
    "    if n <= 1:\n",
    "        return False\n",
    "    if n <= 3:\n",
    "        return True\n",
    "    if n % 2 == 0 or n % 3 == 0:\n",
    "        return False\n",
    "    i = 5\n",
    "    while i * i <= n:\n",
    "        if n % i == 0 or n % (i + 2) == 0:\n",
    "            return False\n",
    "        i += 6\n",
    "    return True\n",
    "\n",
    "# 随机生成两个1到10000之间的整数\n",
    "num1 = random.randint(1, 10000)\n",
    "num2 = random.randint(1, 10000)\n",
    "\n",
    "# 确定两个整数之间的范围\n",
    "start = min(num1, num2)\n",
    "end = max(num1, num2)\n",
    "\n",
    "# 在[start, end]范围内查找素数\n",
    "max_prime = None\n",
    "for num in range(start, end + 1):\n",
    "    if is_prime(num):\n",
    "        max_prime = num\n",
    "\n",
    "# 输出最大的素数，如果存在的话\n",
    "if max_prime is not None:\n",
    "    print(\"最大的素数是:\", max_prime)\n",
    "else:\n",
    "    print(\"在范围内没有素数。\")\n",
    "\n"
   ]
  },
  {
   "cell_type": "markdown",
   "id": "aac96216",
   "metadata": {},
   "source": [
    "###  12．国际象棋棋盘共有64个方格，现在第一个格子上放1颗麦粒，以后每一个格子是前一个格子麦粒数的3倍。计算放满整个棋盘需要的麦粒总数，结果存于 wheat变量（5分）。"
   ]
  },
  {
   "cell_type": "code",
   "execution_count": 55,
   "id": "5b68f00e",
   "metadata": {},
   "outputs": [
    {
     "name": "stdout",
     "output_type": "stream",
     "text": [
      "放满整个棋盘需要的麦粒总数是: 1716841910146256242328924544640\n"
     ]
    }
   ],
   "source": [
    "# 初始化麦粒总数\n",
    "wheat = 0\n",
    "\n",
    "# 遍历64个格子\n",
    "for i in range(64):\n",
    "    # 计算第i个格子的麦粒数，第i个格子的麦粒数是3的i次方\n",
    "    grains = 3 ** i\n",
    "    # 将第i个格子的麦粒数加到总数上\n",
    "    wheat += grains\n",
    "\n",
    "print(\"放满整个棋盘需要的麦粒总数是:\", wheat)"
   ]
  },
  {
   "cell_type": "markdown",
   "id": "a17e2514",
   "metadata": {},
   "source": [
    "### 13．定义一个函数resolve(n)，函数参数为一个小于10000的正整数，获取它的各位数字，并以一个元组的形式返回（如：整数1234分解为元组(1, 2, 3, 4)）。在主程序中调用该函数（5分）。"
   ]
  },
  {
   "cell_type": "code",
   "execution_count": 56,
   "id": "255326a1",
   "metadata": {},
   "outputs": [
    {
     "name": "stdout",
     "output_type": "stream",
     "text": [
      "分解为元组的数字是: (1, 2, 3, 4)\n"
     ]
    }
   ],
   "source": [
    "def resolve(n):\n",
    "    # 将整数转换为字符串，以便逐个字符处理\n",
    "    str_n = str(n)\n",
    "    # 使用列表推导式获取每一位数字，并转换回整数\n",
    "    digits = [int(char) for char in str_n]\n",
    "    # 将列表转换为元组并返回\n",
    "    return tuple(digits)\n",
    "\n",
    "# 在主程序中调用resolve函数\n",
    "# 例如，调用resolve函数并传入整数1234\n",
    "result = resolve(1234)\n",
    "print(\"分解为元组的数字是:\", result)"
   ]
  },
  {
   "cell_type": "code",
   "execution_count": 57,
   "id": "0db2d75a",
   "metadata": {},
   "outputs": [],
   "source": [
    "# 测试\n",
    "assert resolve(1234) == (1, 2, 3, 4) and resolve(456) == (4, 5, 6)"
   ]
  },
  {
   "cell_type": "markdown",
   "id": "afa41d45",
   "metadata": {},
   "source": [
    "### 14．编写一个lambda表达式，对给定的列表[1, 2, 3, 4, 5]，把它的每个元素值分别进行平方，生成一个新列表（5分）。"
   ]
  },
  {
   "cell_type": "code",
   "execution_count": 58,
   "id": "91d25fdc",
   "metadata": {},
   "outputs": [
    {
     "name": "stdout",
     "output_type": "stream",
     "text": [
      "平方后的列表: [1, 4, 9, 16, 25]\n"
     ]
    }
   ],
   "source": [
    "# 给定的列表\n",
    "numbers = [1, 2, 3, 4, 5]\n",
    "\n",
    "# 使用 lambda 表达式和 map 函数进行平方\n",
    "squared_numbers = list(map(lambda x: x ** 2, numbers))\n",
    "\n",
    "print(\"平方后的列表:\", squared_numbers)"
   ]
  },
  {
   "cell_type": "markdown",
   "id": "d6c32fec",
   "metadata": {},
   "source": [
    "### 15.用字典存储游戏角色的属性，用随机值修改属性。(8分）\n",
    "\n",
    "构造一个字典，用于存储游戏角色的信息，除角色的姓名、性别、职业（此三项信息通过提示输入设置）外，还包括以下几类基本属性（由随机值赋值，初始数值范围为1-100）：\n",
    "\n",
    "* 生命值：表示角色的健康状况，当生命值降至零时，角色将死亡或进入濒死状态。\n",
    "* 魔法值：用于施展技能或法术的资源。\n",
    "* 攻击力：决定角色对敌人造成的伤害量。\n",
    "* 防御力：抵御敌人攻击的能力。\n",
    "* 速度：影响角色的行动顺序和频率。\n",
    "* 幸运：影响角色在游戏中遇到的各种随机事件，如暴击率和掉宝率。"
   ]
  },
  {
   "cell_type": "code",
   "execution_count": null,
   "id": "218e669a",
   "metadata": {},
   "outputs": [],
   "source": [
    "#提示用户输入游戏角色的姓名、性别、职业，使用逗号隔开（2分）\n",
    "import random\n",
    "\n",
    "def get_character_attributes():\n",
    "    # 提示用户输入游戏角色的姓名、性别、职业，并用逗号隔开\n",
    "    input_str = input(\"请输入游戏角色的姓名、性别、职业，用逗号隔开: \")\n",
    "    name, gender, occupation = input_str.split(',')\n",
    "\n",
    "    # 根据用户输入的信息设定字典的姓名、性别、职业等键的值\n",
    "    character = {\n",
    "        '姓名': name.strip(),\n",
    "        '性别': gender.strip(),\n",
    "        '职业': occupation.strip()\n",
    "    }\n",
    "\n",
    "    # 使用随机数对角色基本属性赋值，初始数值范围为1-100\n",
    "    character['生命值'] = random.randint(1, 100)\n",
    "    character['魔法值'] = random.randint(1, 100)\n",
    "    character['攻击力'] = random.randint(1, 100)\n",
    "    character['防御力'] = random.randint(1, 100)\n",
    "    character['速度'] = random.randint(1, 100)\n",
    "    character['幸运'] = random.randint(1, 100)\n",
    "\n",
    "    # 遍历输出所有的键值对\n",
    "    for key, value in character.items():\n",
    "        print(f\"{key}: {value}\")\n",
    "\n",
    "# 调用函数\n",
    "get_character_attributes()"
   ]
  },
  {
   "cell_type": "code",
   "execution_count": null,
   "id": "4f2458f1",
   "metadata": {},
   "outputs": [],
   "source": [
    "#根据用户输入的信息设定字典的姓名、性别、职业等键的值（2分）\n",
    "# 提示用户输入游戏角色的姓名、性别、职业，并用逗号隔开\n",
    "input_str = input(\"请输入游戏角色的姓名、性别、职业，用逗号隔开: \")\n",
    "\n",
    "# 分割输入的字符串，并去除每个元素的前后空格\n",
    "name, gender, occupation = [item.strip() for item in input_str.split(',')]\n",
    "\n",
    "# 根据用户输入的信息设定字典的姓名、性别、职业等键的值\n",
    "character = {\n",
    "    '姓名': name,\n",
    "    '性别': gender,\n",
    "    '职业': occupation\n",
    "}"
   ]
  },
  {
   "cell_type": "code",
   "execution_count": null,
   "id": "ba30ad16",
   "metadata": {},
   "outputs": [],
   "source": [
    "#使用随机数对角色基本属性赋值（2分）\n",
    "import random\n",
    "\n",
    "# 假设character字典已经包含了姓名、性别、职业\n",
    "# character = {'姓名': '张三', '性别': '男', '职业': '战士'}\n",
    "\n",
    "# 使用随机数对角色基本属性赋值，初始数值范围为1-100\n",
    "character['生命值'] = random.randint(1, 100)\n",
    "character['魔法值'] = random.randint(1, 100)\n",
    "character['攻击力'] = random.randint(1, 100)\n",
    "character['防御力'] = random.randint(1, 100)\n",
    "character['速度'] = random.randint(1, 100)\n",
    "character['幸运'] = random.randint(1, 100)"
   ]
  },
  {
   "cell_type": "code",
   "execution_count": null,
   "id": "2fa7d919",
   "metadata": {},
   "outputs": [],
   "source": [
    "#遍历输出所有的键值对（2分）\n",
    "# 假设character字典已经包含了姓名、性别、职业以及基本属性\n",
    "# character = {\n",
    "#     '姓名': '张三',\n",
    "#     '性别': '男',\n",
    "#     '职业': '战士',\n",
    "#     '生命值': random.randint(1, 100),\n",
    "#     '魔法值': random.randint(1, 100),\n",
    "#     '攻击力': random.randint(1, 100),\n",
    "#     '防御力': random.randint(1, 100),\n",
    "#     '速度': random.randint(1, 100),\n",
    "#     '幸运': random.randint(1, 100)\n",
    "# }\n",
    "\n",
    "# 遍历输出所有的键值对\n",
    "for attribute, value in character.items():\n",
    "    print(f\"{attribute}: {value}\")"
   ]
  },
  {
   "cell_type": "markdown",
   "id": "58e48a44",
   "metadata": {},
   "source": [
    "###  16．将1至100的整数存入文件\"数据.txt\"，数据用空格分隔，每10个一行，共分10行。保存后再读此文件，数据存入data二维列表中 (5分）。"
   ]
  },
  {
   "cell_type": "code",
   "execution_count": null,
   "id": "5df91e13",
   "metadata": {},
   "outputs": [],
   "source": [
    "# 写入文件 数据.txt(3分)\n"
   ]
  },
  {
   "cell_type": "code",
   "execution_count": null,
   "id": "df6b31a4",
   "metadata": {
    "scrolled": true
   },
   "outputs": [],
   "source": [
    "# 查看文件\n",
    "!type 数据.txt"
   ]
  },
  {
   "cell_type": "code",
   "execution_count": null,
   "id": "a31c637a",
   "metadata": {},
   "outputs": [],
   "source": [
    "# 从 数据.txt 再读出数据(2分)\n"
   ]
  },
  {
   "cell_type": "markdown",
   "id": "bc22572e",
   "metadata": {},
   "source": [
    "###  17．有一个工作簿文件“data/学生成绩.xlsx”，第一列为学生姓名，第二列到第四列分别是学生的三门课的成绩。编写程序计算每名学生的总分，并输出成绩前三名的学生姓名 (5分）。"
   ]
  },
  {
   "cell_type": "code",
   "execution_count": null,
   "id": "2b6d4662",
   "metadata": {},
   "outputs": [],
   "source": [
    "# openpyxl库在ananconda中已包含\n",
    "# 程序可以只从excel文件读数据，在python程序中计算总分, 可以不用将总分填入excel文件\n",
    "from openpyxl import Workbook,load_workbook\n",
    "\n"
   ]
  },
  {
   "cell_type": "code",
   "execution_count": null,
   "id": "f8bc73b1",
   "metadata": {},
   "outputs": [],
   "source": []
  },
  {
   "cell_type": "markdown",
   "id": "81479977",
   "metadata": {},
   "source": [
    "### 18.根据中文段落生成词云（7分）。"
   ]
  },
  {
   "cell_type": "code",
   "execution_count": 20,
   "id": "94587903",
   "metadata": {},
   "outputs": [],
   "source": [
    "string = '''编写程序就是用计算机语言实现算法的过程。可以证明，任何问题都可以由三种基本结构表达出来。这三种基本结构包括顺序结构、选择结构和循环结构。'''\n",
    "# 先分词（1分）\n",
    "\n",
    "# 用空格将中文词汇连接为字符串,以满足wc的格式要求（1分）\n",
    "\n",
    "# 创建词云对象，指定中文楷体（font_path='simkai.ttf'），背景白色，词云图宽度500，高度400（1分）\n",
    "\n",
    "# 生成词云（1分）\n",
    "\n",
    "# 保存为图片文件wc.png（1分）\n",
    "\n",
    "# 在本页面显示图片（2分）\n"
   ]
  },
  {
   "cell_type": "markdown",
   "id": "8e329b6d",
   "metadata": {},
   "source": [
    "### 19.通过pandas读取2008.1月-2019.8月电影月票房榜数据（boxmonth.xlsx）如下，完成相应统计。数据按月组织，每月11条数据（当月前10的电影，除了前10以外“其他”电影票房之和)(10分）。"
   ]
  },
  {
   "cell_type": "code",
   "execution_count": null,
   "id": "df71fea8",
   "metadata": {},
   "outputs": [],
   "source": [
    "#读取2008.1月-2019.8月电影月票房榜数据（boxmonth.xlsx）(1分)\n",
    "\n",
    "# 计算总票房(万元)，总观影人数(1分)\n"
   ]
  },
  {
   "cell_type": "code",
   "execution_count": null,
   "id": "79b31fd0",
   "metadata": {},
   "outputs": [],
   "source": [
    "# 查看2008—2019年电影十大票房排行榜(1分)\n"
   ]
  },
  {
   "cell_type": "code",
   "execution_count": null,
   "id": "4329fa1e",
   "metadata": {},
   "outputs": [],
   "source": [
    "# 由于2019年月份数据不全，排除2019年数据(1分),  后续只统计2008—2018年的数据。\n"
   ]
  },
  {
   "cell_type": "code",
   "execution_count": null,
   "id": "cc29215d",
   "metadata": {},
   "outputs": [],
   "source": [
    "# 统计年度票房和月度票房，然后绘制对比图形。\n",
    "# 年度票房(1分)\n",
    "\n",
    "# 绘制年度票房图(1分)\n",
    "\n",
    "# 月度票房(1分)\n",
    "\n",
    "# 绘制月度票房图(1分)\n"
   ]
  },
  {
   "cell_type": "code",
   "execution_count": null,
   "id": "a1b8a6ed",
   "metadata": {},
   "outputs": [],
   "source": [
    "# 按年度统计观影人数, 降序排列(1分)\n"
   ]
  },
  {
   "cell_type": "code",
   "execution_count": null,
   "id": "2ed829e8",
   "metadata": {},
   "outputs": [],
   "source": [
    "# 计算年度人均票价“年度总票房（万元人民币）/观影人数”，保留1位小数(1分)\n"
   ]
  }
 ],
 "metadata": {
  "kernelspec": {
   "display_name": "Python 3 (ipykernel)",
   "language": "python",
   "name": "python3"
  },
  "language_info": {
   "codemirror_mode": {
    "name": "ipython",
    "version": 3
   },
   "file_extension": ".py",
   "mimetype": "text/x-python",
   "name": "python",
   "nbconvert_exporter": "python",
   "pygments_lexer": "ipython3",
   "version": "3.11.5"
  }
 },
 "nbformat": 4,
 "nbformat_minor": 5
}
